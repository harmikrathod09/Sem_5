{
 "cells": [
  {
   "cell_type": "markdown",
   "id": "9373d555-cbaa-4186-903e-216369c621d3",
   "metadata": {
    "jp-MarkdownHeadingCollapsed": true
   },
   "source": [
    "<a href='https://www.darshan.ac.in/'>\n",
    "  <img src='https://www.darshan.ac.in/Content/media/DU_Logo.svg' width=\"250\" height=\"300\"/>\n",
    "</a>\n",
    "\n",
    "<center>\n",
    "  <h1><b>Data Mining</b></h1>\n",
    "  <h1><b>Implement Apriori Algorithm on Online Retail Dataset</b></h1>\n",
    "</center>\n",
    "\n",
    "---\n",
    "\n",
    "### **Name:** Harmik Rathod  \n",
    "### **Enrollment No:** 24010101680  \n",
    "### **Subject Code:** 2301CS503  \n",
    "### **Course:** B.Tech in Computer Science & Engineering  \n",
    "### **Semester:** 5  \n",
    "### **Division:** B  \n",
    " \n",
    "### **Instructor:** Prof. Jayesh Vagadiya \n",
    "\n",
    "---\n"
   ]
  },
  {
   "cell_type": "markdown",
   "id": "0076448d-29ec-4c5e-8c87-911e6c787dc7",
   "metadata": {},
   "source": [
    "# Step 1 : Load Dataset"
   ]
  },
  {
   "cell_type": "code",
   "execution_count": 1,
   "id": "55ed926c-9edf-4600-ae0f-065113ad8eb6",
   "metadata": {},
   "outputs": [],
   "source": [
    "import pandas as pd"
   ]
  },
  {
   "cell_type": "code",
   "execution_count": null,
   "id": "6efc543f-bd61-4a15-bd46-0b842ddef3f0",
   "metadata": {},
   "outputs": [],
   "source": [
    "df=pd.read_csv('BasketFormat.csv')"
   ]
  },
  {
   "cell_type": "code",
   "execution_count": null,
   "id": "21c9fab9-0c54-44f1-adad-d979b5cb0420",
   "metadata": {},
   "outputs": [],
   "source": [
    "df"
   ]
  },
  {
   "cell_type": "markdown",
   "id": "00002817-c94a-4ece-9e1f-7194e87edbdf",
   "metadata": {},
   "source": [
    "# Step 2 : Drop the 'InvoiceNo' column"
   ]
  },
  {
   "cell_type": "code",
   "execution_count": null,
   "id": "5912db6c-d1f0-4208-bc89-d63a47f108b0",
   "metadata": {},
   "outputs": [],
   "source": [
    "df_items=df.drop(columns=['InvoiceNo'])\n",
    "df_items"
   ]
  },
  {
   "cell_type": "markdown",
   "id": "b7d0c32f-8dcc-42f1-8e3f-f41521865854",
   "metadata": {},
   "source": [
    " # Step 3 : Count Frequency of Each Item"
   ]
  },
  {
   "cell_type": "code",
   "execution_count": null,
   "id": "bc3639f5-f2c2-4ed0-a5ac-caa898abe933",
   "metadata": {},
   "outputs": [],
   "source": [
    "df_items.sum().sort_values(ascending=False)"
   ]
  },
  {
   "cell_type": "markdown",
   "id": "c32248df-c5c4-4078-bd72-c2a69941fa80",
   "metadata": {},
   "source": [
    "# Step 4 : Define Apriori Function"
   ]
  },
  {
   "cell_type": "code",
   "execution_count": null,
   "id": "07a6d058-1d63-44d4-b7e2-169fbb09cd12",
   "metadata": {},
   "outputs": [],
   "source": [
    "from itertools import combinations\n",
    "\n",
    "def find_frequent_itemsets(df, min_support):\n",
    "    n = len(df)            \n",
    "    result = []\n",
    "\n",
    "    for k in [1, 2]:       # Checks 1-item and 2-itemsets\n",
    "        for items in combinations(df.columns, k):\n",
    "            mask = df[list(items)].all(axis=1)     \n",
    "            support = mask.sum() / n               \n",
    "            if support >= min_support:\n",
    "                result.append((frozenset(items), round(support, 2)))\n",
    "\n",
    "    return result\n"
   ]
  },
  {
   "cell_type": "markdown",
   "id": "8df5cb6c-d5ac-486a-828a-acc2d6c17d6c",
   "metadata": {},
   "source": [
    "# Step 5 : Run Apriori"
   ]
  },
  {
   "cell_type": "code",
   "execution_count": null,
   "id": "a5d4b362-2e22-4241-97c2-4a4f560b9ec6",
   "metadata": {},
   "outputs": [],
   "source": [
    "frequent_itemsets = find_frequent_itemsets(df_items, min_support=0.5)\n",
    "frequent_itemsets\n",
    "# for itemset, support in frequent_itemsets[:10]:\n",
    "#     print(f\"{set(itemset)} -> support: {support}\")"
   ]
  },
  {
   "cell_type": "markdown",
   "id": "686dff6c-b5a6-4901-8835-4991bfadac3e",
   "metadata": {},
   "source": [
    "# Step 6 : Display as a DataFrame"
   ]
  },
  {
   "cell_type": "code",
   "execution_count": null,
   "id": "d340abe7-4e2b-4b53-91e8-842016fbee0b",
   "metadata": {},
   "outputs": [],
   "source": [
    "result_df=pd.DataFrame(frequent_itemsets, columns=['Itemset','Support'])\n",
    "result_df"
   ]
  }
 ],
 "metadata": {
  "kernelspec": {
   "display_name": "Python 3 (ipykernel)",
   "language": "python",
   "name": "python3"
  },
  "language_info": {
   "codemirror_mode": {
    "name": "ipython",
    "version": 3
   },
   "file_extension": ".py",
   "mimetype": "text/x-python",
   "name": "python",
   "nbconvert_exporter": "python",
   "pygments_lexer": "ipython3",
   "version": "3.12.7"
  }
 },
 "nbformat": 4,
 "nbformat_minor": 5
}
