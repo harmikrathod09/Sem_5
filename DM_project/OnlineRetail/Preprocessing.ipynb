{
 "cells": [
  {
   "cell_type": "markdown",
   "id": "7d35885b-ef78-4026-8304-23d4cd5be757",
   "metadata": {},
   "source": [
    "<a href='https://www.darshan.ac.in/'>\n",
    "  <img src='https://www.darshan.ac.in/Content/media/DU_Logo.svg' width=\"250\" height=\"300\"/>\n",
    "</a>\n",
    "\n",
    "<center>\n",
    "  <h1><b>Data Mining</b></h1>\n",
    "  <h1><b>Online Retails</b></h1>\n",
    "</center>\n",
    "\n",
    "---\n",
    "\n",
    "### **Name:** Harmik Rathod  \n",
    "### **Enrollment No:** 24010101680  \n",
    "### **Subject Code:** 2301CS503  \n",
    "### **Course:** B.Tech in Computer Science & Engineering  \n",
    "### **Semester:** 5  \n",
    "### **Division:** B  \n",
    " \n",
    "### **Instructor:** Prof. Jayesh Vagadiya \n",
    "\n",
    "---\n"
   ]
  },
  {
   "cell_type": "markdown",
   "id": "11a9e37b-c326-4632-b818-39eb90667a0a",
   "metadata": {},
   "source": [
    "### 01) Import Library"
   ]
  },
  {
   "cell_type": "code",
   "execution_count": 2,
   "id": "ad32f260-cbcd-404f-bf9c-47b0ed49bccb",
   "metadata": {},
   "outputs": [],
   "source": [
    "import pandas as pd\n",
    "import numpy as np\n",
    "import matplotlib.pyplot as plt"
   ]
  },
  {
   "cell_type": "markdown",
   "id": "0d2ad61f-4783-49ae-bf61-368217e33989",
   "metadata": {},
   "source": [
    "### 02) Read data set"
   ]
  },
  {
   "cell_type": "code",
   "execution_count": 3,
   "id": "4c6e8737-7b0c-46c5-8afb-1d033bed5810",
   "metadata": {},
   "outputs": [],
   "source": [
    "df=pd.read_csv('OnlineRetail.csv', encoding='ISO-8859-1')"
   ]
  },
  {
   "cell_type": "markdown",
   "id": "842da3d9-5ee9-4bfe-bb3c-61519530feb9",
   "metadata": {},
   "source": [
    "### 03) Display first 5 records"
   ]
  },
  {
   "cell_type": "code",
   "execution_count": 4,
   "id": "c18bbabd-8923-49ac-b056-4ef9f090362a",
   "metadata": {},
   "outputs": [
    {
     "data": {
      "text/html": [
       "<div>\n",
       "<style scoped>\n",
       "    .dataframe tbody tr th:only-of-type {\n",
       "        vertical-align: middle;\n",
       "    }\n",
       "\n",
       "    .dataframe tbody tr th {\n",
       "        vertical-align: top;\n",
       "    }\n",
       "\n",
       "    .dataframe thead th {\n",
       "        text-align: right;\n",
       "    }\n",
       "</style>\n",
       "<table border=\"1\" class=\"dataframe\">\n",
       "  <thead>\n",
       "    <tr style=\"text-align: right;\">\n",
       "      <th></th>\n",
       "      <th>InvoiceNo</th>\n",
       "      <th>StockCode</th>\n",
       "      <th>Description</th>\n",
       "      <th>Quantity</th>\n",
       "      <th>InvoiceDate</th>\n",
       "      <th>UnitPrice</th>\n",
       "      <th>CustomerID</th>\n",
       "      <th>Country</th>\n",
       "    </tr>\n",
       "  </thead>\n",
       "  <tbody>\n",
       "    <tr>\n",
       "      <th>0</th>\n",
       "      <td>536365</td>\n",
       "      <td>85123A</td>\n",
       "      <td>WHITE HANGING HEART T-LIGHT HOLDER</td>\n",
       "      <td>6</td>\n",
       "      <td>12/1/2010 8:26</td>\n",
       "      <td>2.55</td>\n",
       "      <td>17850.0</td>\n",
       "      <td>United Kingdom</td>\n",
       "    </tr>\n",
       "    <tr>\n",
       "      <th>1</th>\n",
       "      <td>536365</td>\n",
       "      <td>71053</td>\n",
       "      <td>WHITE METAL LANTERN</td>\n",
       "      <td>6</td>\n",
       "      <td>12/1/2010 8:26</td>\n",
       "      <td>3.39</td>\n",
       "      <td>17850.0</td>\n",
       "      <td>United Kingdom</td>\n",
       "    </tr>\n",
       "    <tr>\n",
       "      <th>2</th>\n",
       "      <td>536365</td>\n",
       "      <td>84406B</td>\n",
       "      <td>CREAM CUPID HEARTS COAT HANGER</td>\n",
       "      <td>8</td>\n",
       "      <td>12/1/2010 8:26</td>\n",
       "      <td>2.75</td>\n",
       "      <td>17850.0</td>\n",
       "      <td>United Kingdom</td>\n",
       "    </tr>\n",
       "    <tr>\n",
       "      <th>3</th>\n",
       "      <td>536365</td>\n",
       "      <td>84029G</td>\n",
       "      <td>KNITTED UNION FLAG HOT WATER BOTTLE</td>\n",
       "      <td>6</td>\n",
       "      <td>12/1/2010 8:26</td>\n",
       "      <td>3.39</td>\n",
       "      <td>17850.0</td>\n",
       "      <td>United Kingdom</td>\n",
       "    </tr>\n",
       "    <tr>\n",
       "      <th>4</th>\n",
       "      <td>536365</td>\n",
       "      <td>84029E</td>\n",
       "      <td>RED WOOLLY HOTTIE WHITE HEART.</td>\n",
       "      <td>6</td>\n",
       "      <td>12/1/2010 8:26</td>\n",
       "      <td>3.39</td>\n",
       "      <td>17850.0</td>\n",
       "      <td>United Kingdom</td>\n",
       "    </tr>\n",
       "  </tbody>\n",
       "</table>\n",
       "</div>"
      ],
      "text/plain": [
       "  InvoiceNo StockCode                          Description  Quantity  \\\n",
       "0    536365    85123A   WHITE HANGING HEART T-LIGHT HOLDER         6   \n",
       "1    536365     71053                  WHITE METAL LANTERN         6   \n",
       "2    536365    84406B       CREAM CUPID HEARTS COAT HANGER         8   \n",
       "3    536365    84029G  KNITTED UNION FLAG HOT WATER BOTTLE         6   \n",
       "4    536365    84029E       RED WOOLLY HOTTIE WHITE HEART.         6   \n",
       "\n",
       "      InvoiceDate  UnitPrice  CustomerID         Country  \n",
       "0  12/1/2010 8:26       2.55     17850.0  United Kingdom  \n",
       "1  12/1/2010 8:26       3.39     17850.0  United Kingdom  \n",
       "2  12/1/2010 8:26       2.75     17850.0  United Kingdom  \n",
       "3  12/1/2010 8:26       3.39     17850.0  United Kingdom  \n",
       "4  12/1/2010 8:26       3.39     17850.0  United Kingdom  "
      ]
     },
     "execution_count": 4,
     "metadata": {},
     "output_type": "execute_result"
    }
   ],
   "source": [
    "df.head(5)"
   ]
  },
  {
   "cell_type": "markdown",
   "id": "18c5314c-d66a-4f30-aff4-e251d2c54258",
   "metadata": {},
   "source": [
    "### 04) Data type of each columns"
   ]
  },
  {
   "cell_type": "code",
   "execution_count": 5,
   "id": "9649a23e-d538-44bf-b58b-445c4bcab872",
   "metadata": {},
   "outputs": [
    {
     "data": {
      "text/plain": [
       "InvoiceNo       object\n",
       "StockCode       object\n",
       "Description     object\n",
       "Quantity         int64\n",
       "InvoiceDate     object\n",
       "UnitPrice      float64\n",
       "CustomerID     float64\n",
       "Country         object\n",
       "dtype: object"
      ]
     },
     "execution_count": 5,
     "metadata": {},
     "output_type": "execute_result"
    }
   ],
   "source": [
    "df.dtypes"
   ]
  },
  {
   "cell_type": "markdown",
   "id": "f4e6c406-93dd-47fe-99a6-48b016d1a8fb",
   "metadata": {},
   "source": [
    "### 05) Display Summary Information"
   ]
  },
  {
   "cell_type": "code",
   "execution_count": 6,
   "id": "54923e4e-b669-4cd4-9ec5-0f97acec17f6",
   "metadata": {},
   "outputs": [
    {
     "name": "stdout",
     "output_type": "stream",
     "text": [
      "<class 'pandas.core.frame.DataFrame'>\n",
      "RangeIndex: 541909 entries, 0 to 541908\n",
      "Data columns (total 8 columns):\n",
      " #   Column       Non-Null Count   Dtype  \n",
      "---  ------       --------------   -----  \n",
      " 0   InvoiceNo    541909 non-null  object \n",
      " 1   StockCode    541909 non-null  object \n",
      " 2   Description  540455 non-null  object \n",
      " 3   Quantity     541909 non-null  int64  \n",
      " 4   InvoiceDate  541909 non-null  object \n",
      " 5   UnitPrice    541909 non-null  float64\n",
      " 6   CustomerID   406829 non-null  float64\n",
      " 7   Country      541909 non-null  object \n",
      "dtypes: float64(2), int64(1), object(5)\n",
      "memory usage: 33.1+ MB\n"
     ]
    }
   ],
   "source": [
    "df.info()"
   ]
  },
  {
   "cell_type": "markdown",
   "id": "22b7efa2-0ce0-4d41-9ea8-6428f21a0278",
   "metadata": {},
   "source": [
    "### 06) Access rows by their integer location"
   ]
  },
  {
   "cell_type": "code",
   "execution_count": 11,
   "id": "e92ffcf3-de81-426c-b431-dbd1ad39b61f",
   "metadata": {},
   "outputs": [
    {
     "data": {
      "text/plain": [
       "InvoiceNo                            536365\n",
       "StockCode                             22752\n",
       "Description    SET 7 BABUSHKA NESTING BOXES\n",
       "Quantity                                  2\n",
       "InvoiceDate                  12/1/2010 8:26\n",
       "UnitPrice                              7.65\n",
       "CustomerID                          17850.0\n",
       "Country                      United Kingdom\n",
       "Name: 5, dtype: object"
      ]
     },
     "execution_count": 11,
     "metadata": {},
     "output_type": "execute_result"
    }
   ],
   "source": [
    "df.iloc[5]"
   ]
  },
  {
   "cell_type": "markdown",
   "id": "d3121bab-d285-4049-a9ef-652d0edd6425",
   "metadata": {},
   "source": [
    "### 07) Perform Condition Selection on DataFrame"
   ]
  },
  {
   "cell_type": "code",
   "execution_count": 13,
   "id": "9319aa33-57d9-40cd-a4e5-080a444db462",
   "metadata": {},
   "outputs": [
    {
     "data": {
      "text/html": [
       "<div>\n",
       "<style scoped>\n",
       "    .dataframe tbody tr th:only-of-type {\n",
       "        vertical-align: middle;\n",
       "    }\n",
       "\n",
       "    .dataframe tbody tr th {\n",
       "        vertical-align: top;\n",
       "    }\n",
       "\n",
       "    .dataframe thead th {\n",
       "        text-align: right;\n",
       "    }\n",
       "</style>\n",
       "<table border=\"1\" class=\"dataframe\">\n",
       "  <thead>\n",
       "    <tr style=\"text-align: right;\">\n",
       "      <th></th>\n",
       "      <th>InvoiceNo</th>\n",
       "      <th>StockCode</th>\n",
       "      <th>Description</th>\n",
       "      <th>Quantity</th>\n",
       "      <th>InvoiceDate</th>\n",
       "      <th>UnitPrice</th>\n",
       "      <th>CustomerID</th>\n",
       "      <th>Country</th>\n",
       "    </tr>\n",
       "  </thead>\n",
       "  <tbody>\n",
       "    <tr>\n",
       "      <th>0</th>\n",
       "      <td>536365</td>\n",
       "      <td>85123A</td>\n",
       "      <td>WHITE HANGING HEART T-LIGHT HOLDER</td>\n",
       "      <td>6</td>\n",
       "      <td>12/1/2010 8:26</td>\n",
       "      <td>2.55</td>\n",
       "      <td>17850.0</td>\n",
       "      <td>United Kingdom</td>\n",
       "    </tr>\n",
       "    <tr>\n",
       "      <th>1</th>\n",
       "      <td>536365</td>\n",
       "      <td>71053</td>\n",
       "      <td>WHITE METAL LANTERN</td>\n",
       "      <td>6</td>\n",
       "      <td>12/1/2010 8:26</td>\n",
       "      <td>3.39</td>\n",
       "      <td>17850.0</td>\n",
       "      <td>United Kingdom</td>\n",
       "    </tr>\n",
       "    <tr>\n",
       "      <th>2</th>\n",
       "      <td>536365</td>\n",
       "      <td>84406B</td>\n",
       "      <td>CREAM CUPID HEARTS COAT HANGER</td>\n",
       "      <td>8</td>\n",
       "      <td>12/1/2010 8:26</td>\n",
       "      <td>2.75</td>\n",
       "      <td>17850.0</td>\n",
       "      <td>United Kingdom</td>\n",
       "    </tr>\n",
       "    <tr>\n",
       "      <th>3</th>\n",
       "      <td>536365</td>\n",
       "      <td>84029G</td>\n",
       "      <td>KNITTED UNION FLAG HOT WATER BOTTLE</td>\n",
       "      <td>6</td>\n",
       "      <td>12/1/2010 8:26</td>\n",
       "      <td>3.39</td>\n",
       "      <td>17850.0</td>\n",
       "      <td>United Kingdom</td>\n",
       "    </tr>\n",
       "    <tr>\n",
       "      <th>4</th>\n",
       "      <td>536365</td>\n",
       "      <td>84029E</td>\n",
       "      <td>RED WOOLLY HOTTIE WHITE HEART.</td>\n",
       "      <td>6</td>\n",
       "      <td>12/1/2010 8:26</td>\n",
       "      <td>3.39</td>\n",
       "      <td>17850.0</td>\n",
       "      <td>United Kingdom</td>\n",
       "    </tr>\n",
       "    <tr>\n",
       "      <th>...</th>\n",
       "      <td>...</td>\n",
       "      <td>...</td>\n",
       "      <td>...</td>\n",
       "      <td>...</td>\n",
       "      <td>...</td>\n",
       "      <td>...</td>\n",
       "      <td>...</td>\n",
       "      <td>...</td>\n",
       "    </tr>\n",
       "    <tr>\n",
       "      <th>541889</th>\n",
       "      <td>581585</td>\n",
       "      <td>22466</td>\n",
       "      <td>FAIRY TALE COTTAGE NIGHT LIGHT</td>\n",
       "      <td>12</td>\n",
       "      <td>12/9/2011 12:31</td>\n",
       "      <td>1.95</td>\n",
       "      <td>15804.0</td>\n",
       "      <td>United Kingdom</td>\n",
       "    </tr>\n",
       "    <tr>\n",
       "      <th>541890</th>\n",
       "      <td>581586</td>\n",
       "      <td>22061</td>\n",
       "      <td>LARGE CAKE STAND  HANGING STRAWBERY</td>\n",
       "      <td>8</td>\n",
       "      <td>12/9/2011 12:49</td>\n",
       "      <td>2.95</td>\n",
       "      <td>13113.0</td>\n",
       "      <td>United Kingdom</td>\n",
       "    </tr>\n",
       "    <tr>\n",
       "      <th>541891</th>\n",
       "      <td>581586</td>\n",
       "      <td>23275</td>\n",
       "      <td>SET OF 3 HANGING OWLS OLLIE BEAK</td>\n",
       "      <td>24</td>\n",
       "      <td>12/9/2011 12:49</td>\n",
       "      <td>1.25</td>\n",
       "      <td>13113.0</td>\n",
       "      <td>United Kingdom</td>\n",
       "    </tr>\n",
       "    <tr>\n",
       "      <th>541892</th>\n",
       "      <td>581586</td>\n",
       "      <td>21217</td>\n",
       "      <td>RED RETROSPOT ROUND CAKE TINS</td>\n",
       "      <td>24</td>\n",
       "      <td>12/9/2011 12:49</td>\n",
       "      <td>8.95</td>\n",
       "      <td>13113.0</td>\n",
       "      <td>United Kingdom</td>\n",
       "    </tr>\n",
       "    <tr>\n",
       "      <th>541893</th>\n",
       "      <td>581586</td>\n",
       "      <td>20685</td>\n",
       "      <td>DOORMAT RED RETROSPOT</td>\n",
       "      <td>10</td>\n",
       "      <td>12/9/2011 12:49</td>\n",
       "      <td>7.08</td>\n",
       "      <td>13113.0</td>\n",
       "      <td>United Kingdom</td>\n",
       "    </tr>\n",
       "  </tbody>\n",
       "</table>\n",
       "<p>495478 rows × 8 columns</p>\n",
       "</div>"
      ],
      "text/plain": [
       "       InvoiceNo StockCode                          Description  Quantity  \\\n",
       "0         536365    85123A   WHITE HANGING HEART T-LIGHT HOLDER         6   \n",
       "1         536365     71053                  WHITE METAL LANTERN         6   \n",
       "2         536365    84406B       CREAM CUPID HEARTS COAT HANGER         8   \n",
       "3         536365    84029G  KNITTED UNION FLAG HOT WATER BOTTLE         6   \n",
       "4         536365    84029E       RED WOOLLY HOTTIE WHITE HEART.         6   \n",
       "...          ...       ...                                  ...       ...   \n",
       "541889    581585     22466       FAIRY TALE COTTAGE NIGHT LIGHT        12   \n",
       "541890    581586     22061  LARGE CAKE STAND  HANGING STRAWBERY         8   \n",
       "541891    581586     23275     SET OF 3 HANGING OWLS OLLIE BEAK        24   \n",
       "541892    581586     21217        RED RETROSPOT ROUND CAKE TINS        24   \n",
       "541893    581586     20685                DOORMAT RED RETROSPOT        10   \n",
       "\n",
       "            InvoiceDate  UnitPrice  CustomerID         Country  \n",
       "0        12/1/2010 8:26       2.55     17850.0  United Kingdom  \n",
       "1        12/1/2010 8:26       3.39     17850.0  United Kingdom  \n",
       "2        12/1/2010 8:26       2.75     17850.0  United Kingdom  \n",
       "3        12/1/2010 8:26       3.39     17850.0  United Kingdom  \n",
       "4        12/1/2010 8:26       3.39     17850.0  United Kingdom  \n",
       "...                 ...        ...         ...             ...  \n",
       "541889  12/9/2011 12:31       1.95     15804.0  United Kingdom  \n",
       "541890  12/9/2011 12:49       2.95     13113.0  United Kingdom  \n",
       "541891  12/9/2011 12:49       1.25     13113.0  United Kingdom  \n",
       "541892  12/9/2011 12:49       8.95     13113.0  United Kingdom  \n",
       "541893  12/9/2011 12:49       7.08     13113.0  United Kingdom  \n",
       "\n",
       "[495478 rows x 8 columns]"
      ]
     },
     "execution_count": 13,
     "metadata": {},
     "output_type": "execute_result"
    }
   ],
   "source": [
    "df[df['Country'] == 'United Kingdom']"
   ]
  },
  {
   "cell_type": "markdown",
   "id": "d5f41259-29ad-4f08-9f15-1ed1e01361fa",
   "metadata": {},
   "source": [
    "### 08) Compute the sum of UnitPrice Column"
   ]
  },
  {
   "cell_type": "code",
   "execution_count": 14,
   "id": "90cbc27e-eda1-481f-adeb-e3acc0cab215",
   "metadata": {},
   "outputs": [
    {
     "data": {
      "text/plain": [
       "2498803.974"
      ]
     },
     "execution_count": 14,
     "metadata": {},
     "output_type": "execute_result"
    }
   ],
   "source": [
    "df['UnitPrice'].sum()"
   ]
  },
  {
   "cell_type": "markdown",
   "id": "ed7736ff-d512-4daf-ba86-c9b4338fa69d",
   "metadata": {},
   "source": [
    "### 09) Compute the mean of UnitPrice Column"
   ]
  },
  {
   "cell_type": "code",
   "execution_count": 15,
   "id": "ac62ec12-a627-4b76-8972-24df6184fff7",
   "metadata": {},
   "outputs": [
    {
     "data": {
      "text/plain": [
       "4.611113626088513"
      ]
     },
     "execution_count": 15,
     "metadata": {},
     "output_type": "execute_result"
    }
   ],
   "source": [
    "df['UnitPrice'].mean()"
   ]
  },
  {
   "cell_type": "markdown",
   "id": "5edeb6fc-0397-4340-8a98-0a3fa29c748b",
   "metadata": {},
   "source": [
    "### 10) Count non-null value (column)"
   ]
  },
  {
   "cell_type": "code",
   "execution_count": 17,
   "id": "4ad3a40e-4d5d-47f4-86f6-d601728fb3a9",
   "metadata": {},
   "outputs": [
    {
     "data": {
      "text/plain": [
       "InvoiceNo      541909\n",
       "StockCode      541909\n",
       "Description    540455\n",
       "Quantity       541909\n",
       "InvoiceDate    541909\n",
       "UnitPrice      541909\n",
       "CustomerID     406829\n",
       "Country        541909\n",
       "dtype: int64"
      ]
     },
     "execution_count": 17,
     "metadata": {},
     "output_type": "execute_result"
    }
   ],
   "source": [
    "(~df.isnull()).sum()\n",
    "df.count()"
   ]
  },
  {
   "cell_type": "markdown",
   "id": "862ecbcf-bf5f-4e00-b62a-683ac42dd043",
   "metadata": {},
   "source": [
    "### 11) Minimum value of Quantity Column"
   ]
  },
  {
   "cell_type": "code",
   "execution_count": 19,
   "id": "30c5f5b0-c916-4660-9871-f16a21fcdff4",
   "metadata": {},
   "outputs": [
    {
     "data": {
      "text/plain": [
       "-80995"
      ]
     },
     "execution_count": 19,
     "metadata": {},
     "output_type": "execute_result"
    }
   ],
   "source": [
    "df['Quantity'].min()"
   ]
  },
  {
   "cell_type": "markdown",
   "id": "4946dd56-9d09-422b-b4f4-d0eca753ad12",
   "metadata": {},
   "source": [
    "### 12) Maximum value of Quantity Column"
   ]
  },
  {
   "cell_type": "code",
   "execution_count": 21,
   "id": "5120e35e-2d97-4d7e-af20-d4894cd78bb4",
   "metadata": {},
   "outputs": [
    {
     "data": {
      "text/plain": [
       "80995"
      ]
     },
     "execution_count": 21,
     "metadata": {},
     "output_type": "execute_result"
    }
   ],
   "source": [
    "df['Quantity'].max()"
   ]
  },
  {
   "cell_type": "markdown",
   "id": "cd415b07-d3bd-4eff-877c-59c270330f3e",
   "metadata": {},
   "source": [
    "### 13) The number of observations in the dataset"
   ]
  },
  {
   "cell_type": "code",
   "execution_count": 3,
   "id": "0ca25c61-ff04-4db4-94d7-1eaeb65e6dc4",
   "metadata": {},
   "outputs": [
    {
     "data": {
      "text/plain": [
       "541909"
      ]
     },
     "execution_count": 3,
     "metadata": {},
     "output_type": "execute_result"
    }
   ],
   "source": [
    "df.shape[0]"
   ]
  },
  {
   "cell_type": "markdown",
   "id": "5752ae87-a8cf-446b-a933-6317c542f59b",
   "metadata": {},
   "source": [
    "### 14) The number of columns in the dataset"
   ]
  },
  {
   "cell_type": "code",
   "execution_count": 5,
   "id": "9b06374a-3916-40bc-ab16-08b34aa71cd4",
   "metadata": {},
   "outputs": [
    {
     "data": {
      "text/plain": [
       "8"
      ]
     },
     "execution_count": 5,
     "metadata": {},
     "output_type": "execute_result"
    }
   ],
   "source": [
    "df.shape[1]"
   ]
  },
  {
   "cell_type": "markdown",
   "id": "4c00c209-7ea3-462e-a31f-22757a65ce45",
   "metadata": {},
   "source": [
    "### 15) Print the name of all the columns"
   ]
  },
  {
   "cell_type": "code",
   "execution_count": 6,
   "id": "e57c531b-1e80-4a08-9ee4-6a6b571ff547",
   "metadata": {},
   "outputs": [
    {
     "data": {
      "text/plain": [
       "Index(['InvoiceNo', 'StockCode', 'Description', 'Quantity', 'InvoiceDate',\n",
       "       'UnitPrice', 'CustomerID', 'Country'],\n",
       "      dtype='object')"
      ]
     },
     "execution_count": 6,
     "metadata": {},
     "output_type": "execute_result"
    }
   ],
   "source": [
    "df.columns"
   ]
  },
  {
   "cell_type": "markdown",
   "id": "04db3e7d-e41b-49be-8838-d31fa8da7584",
   "metadata": {},
   "source": [
    "### 16) How is the dataset indexed"
   ]
  },
  {
   "cell_type": "code",
   "execution_count": 8,
   "id": "f98682f4-eb9c-4b66-b8e5-dba312e53ae3",
   "metadata": {},
   "outputs": [
    {
     "data": {
      "text/plain": [
       "RangeIndex(start=0, stop=541909, step=1)"
      ]
     },
     "execution_count": 8,
     "metadata": {},
     "output_type": "execute_result"
    }
   ],
   "source": [
    "df.index"
   ]
  },
  {
   "cell_type": "markdown",
   "id": "695002c1-cc28-4bd0-a25c-f0a079b3a99f",
   "metadata": {},
   "source": [
    "### 17) Summarize the DataFrame."
   ]
  },
  {
   "cell_type": "code",
   "execution_count": 10,
   "id": "dfa10aa8-21f2-45b9-a34c-6e61c97a300f",
   "metadata": {},
   "outputs": [
    {
     "data": {
      "text/html": [
       "<div>\n",
       "<style scoped>\n",
       "    .dataframe tbody tr th:only-of-type {\n",
       "        vertical-align: middle;\n",
       "    }\n",
       "\n",
       "    .dataframe tbody tr th {\n",
       "        vertical-align: top;\n",
       "    }\n",
       "\n",
       "    .dataframe thead th {\n",
       "        text-align: right;\n",
       "    }\n",
       "</style>\n",
       "<table border=\"1\" class=\"dataframe\">\n",
       "  <thead>\n",
       "    <tr style=\"text-align: right;\">\n",
       "      <th></th>\n",
       "      <th>Quantity</th>\n",
       "      <th>UnitPrice</th>\n",
       "      <th>CustomerID</th>\n",
       "    </tr>\n",
       "  </thead>\n",
       "  <tbody>\n",
       "    <tr>\n",
       "      <th>count</th>\n",
       "      <td>541909.000000</td>\n",
       "      <td>541909.000000</td>\n",
       "      <td>406829.000000</td>\n",
       "    </tr>\n",
       "    <tr>\n",
       "      <th>mean</th>\n",
       "      <td>9.552250</td>\n",
       "      <td>4.611114</td>\n",
       "      <td>15287.690570</td>\n",
       "    </tr>\n",
       "    <tr>\n",
       "      <th>std</th>\n",
       "      <td>218.081158</td>\n",
       "      <td>96.759853</td>\n",
       "      <td>1713.600303</td>\n",
       "    </tr>\n",
       "    <tr>\n",
       "      <th>min</th>\n",
       "      <td>-80995.000000</td>\n",
       "      <td>-11062.060000</td>\n",
       "      <td>12346.000000</td>\n",
       "    </tr>\n",
       "    <tr>\n",
       "      <th>25%</th>\n",
       "      <td>1.000000</td>\n",
       "      <td>1.250000</td>\n",
       "      <td>13953.000000</td>\n",
       "    </tr>\n",
       "    <tr>\n",
       "      <th>50%</th>\n",
       "      <td>3.000000</td>\n",
       "      <td>2.080000</td>\n",
       "      <td>15152.000000</td>\n",
       "    </tr>\n",
       "    <tr>\n",
       "      <th>75%</th>\n",
       "      <td>10.000000</td>\n",
       "      <td>4.130000</td>\n",
       "      <td>16791.000000</td>\n",
       "    </tr>\n",
       "    <tr>\n",
       "      <th>max</th>\n",
       "      <td>80995.000000</td>\n",
       "      <td>38970.000000</td>\n",
       "      <td>18287.000000</td>\n",
       "    </tr>\n",
       "  </tbody>\n",
       "</table>\n",
       "</div>"
      ],
      "text/plain": [
       "            Quantity      UnitPrice     CustomerID\n",
       "count  541909.000000  541909.000000  406829.000000\n",
       "mean        9.552250       4.611114   15287.690570\n",
       "std       218.081158      96.759853    1713.600303\n",
       "min    -80995.000000  -11062.060000   12346.000000\n",
       "25%         1.000000       1.250000   13953.000000\n",
       "50%         3.000000       2.080000   15152.000000\n",
       "75%        10.000000       4.130000   16791.000000\n",
       "max     80995.000000   38970.000000   18287.000000"
      ]
     },
     "execution_count": 10,
     "metadata": {},
     "output_type": "execute_result"
    }
   ],
   "source": [
    "df.describe()"
   ]
  },
  {
   "cell_type": "markdown",
   "id": "bd05c985-7a9b-4981-95ce-f1b2cc1aa75c",
   "metadata": {},
   "source": [
    "### 18) Summarize all the columns"
   ]
  },
  {
   "cell_type": "code",
   "execution_count": 12,
   "id": "6c6af2ca-b2ec-4b52-ae76-1a7d3afbb56b",
   "metadata": {},
   "outputs": [
    {
     "data": {
      "text/html": [
       "<div>\n",
       "<style scoped>\n",
       "    .dataframe tbody tr th:only-of-type {\n",
       "        vertical-align: middle;\n",
       "    }\n",
       "\n",
       "    .dataframe tbody tr th {\n",
       "        vertical-align: top;\n",
       "    }\n",
       "\n",
       "    .dataframe thead th {\n",
       "        text-align: right;\n",
       "    }\n",
       "</style>\n",
       "<table border=\"1\" class=\"dataframe\">\n",
       "  <thead>\n",
       "    <tr style=\"text-align: right;\">\n",
       "      <th></th>\n",
       "      <th>InvoiceNo</th>\n",
       "      <th>StockCode</th>\n",
       "      <th>Description</th>\n",
       "      <th>Quantity</th>\n",
       "      <th>InvoiceDate</th>\n",
       "      <th>UnitPrice</th>\n",
       "      <th>CustomerID</th>\n",
       "      <th>Country</th>\n",
       "    </tr>\n",
       "  </thead>\n",
       "  <tbody>\n",
       "    <tr>\n",
       "      <th>count</th>\n",
       "      <td>541909</td>\n",
       "      <td>541909</td>\n",
       "      <td>540455</td>\n",
       "      <td>541909.000000</td>\n",
       "      <td>541909</td>\n",
       "      <td>541909.000000</td>\n",
       "      <td>406829.000000</td>\n",
       "      <td>541909</td>\n",
       "    </tr>\n",
       "    <tr>\n",
       "      <th>unique</th>\n",
       "      <td>25900</td>\n",
       "      <td>4070</td>\n",
       "      <td>4223</td>\n",
       "      <td>NaN</td>\n",
       "      <td>23260</td>\n",
       "      <td>NaN</td>\n",
       "      <td>NaN</td>\n",
       "      <td>38</td>\n",
       "    </tr>\n",
       "    <tr>\n",
       "      <th>top</th>\n",
       "      <td>573585</td>\n",
       "      <td>85123A</td>\n",
       "      <td>WHITE HANGING HEART T-LIGHT HOLDER</td>\n",
       "      <td>NaN</td>\n",
       "      <td>10/31/2011 14:41</td>\n",
       "      <td>NaN</td>\n",
       "      <td>NaN</td>\n",
       "      <td>United Kingdom</td>\n",
       "    </tr>\n",
       "    <tr>\n",
       "      <th>freq</th>\n",
       "      <td>1114</td>\n",
       "      <td>2313</td>\n",
       "      <td>2369</td>\n",
       "      <td>NaN</td>\n",
       "      <td>1114</td>\n",
       "      <td>NaN</td>\n",
       "      <td>NaN</td>\n",
       "      <td>495478</td>\n",
       "    </tr>\n",
       "    <tr>\n",
       "      <th>mean</th>\n",
       "      <td>NaN</td>\n",
       "      <td>NaN</td>\n",
       "      <td>NaN</td>\n",
       "      <td>9.552250</td>\n",
       "      <td>NaN</td>\n",
       "      <td>4.611114</td>\n",
       "      <td>15287.690570</td>\n",
       "      <td>NaN</td>\n",
       "    </tr>\n",
       "    <tr>\n",
       "      <th>std</th>\n",
       "      <td>NaN</td>\n",
       "      <td>NaN</td>\n",
       "      <td>NaN</td>\n",
       "      <td>218.081158</td>\n",
       "      <td>NaN</td>\n",
       "      <td>96.759853</td>\n",
       "      <td>1713.600303</td>\n",
       "      <td>NaN</td>\n",
       "    </tr>\n",
       "    <tr>\n",
       "      <th>min</th>\n",
       "      <td>NaN</td>\n",
       "      <td>NaN</td>\n",
       "      <td>NaN</td>\n",
       "      <td>-80995.000000</td>\n",
       "      <td>NaN</td>\n",
       "      <td>-11062.060000</td>\n",
       "      <td>12346.000000</td>\n",
       "      <td>NaN</td>\n",
       "    </tr>\n",
       "    <tr>\n",
       "      <th>25%</th>\n",
       "      <td>NaN</td>\n",
       "      <td>NaN</td>\n",
       "      <td>NaN</td>\n",
       "      <td>1.000000</td>\n",
       "      <td>NaN</td>\n",
       "      <td>1.250000</td>\n",
       "      <td>13953.000000</td>\n",
       "      <td>NaN</td>\n",
       "    </tr>\n",
       "    <tr>\n",
       "      <th>50%</th>\n",
       "      <td>NaN</td>\n",
       "      <td>NaN</td>\n",
       "      <td>NaN</td>\n",
       "      <td>3.000000</td>\n",
       "      <td>NaN</td>\n",
       "      <td>2.080000</td>\n",
       "      <td>15152.000000</td>\n",
       "      <td>NaN</td>\n",
       "    </tr>\n",
       "    <tr>\n",
       "      <th>75%</th>\n",
       "      <td>NaN</td>\n",
       "      <td>NaN</td>\n",
       "      <td>NaN</td>\n",
       "      <td>10.000000</td>\n",
       "      <td>NaN</td>\n",
       "      <td>4.130000</td>\n",
       "      <td>16791.000000</td>\n",
       "      <td>NaN</td>\n",
       "    </tr>\n",
       "    <tr>\n",
       "      <th>max</th>\n",
       "      <td>NaN</td>\n",
       "      <td>NaN</td>\n",
       "      <td>NaN</td>\n",
       "      <td>80995.000000</td>\n",
       "      <td>NaN</td>\n",
       "      <td>38970.000000</td>\n",
       "      <td>18287.000000</td>\n",
       "      <td>NaN</td>\n",
       "    </tr>\n",
       "  </tbody>\n",
       "</table>\n",
       "</div>"
      ],
      "text/plain": [
       "       InvoiceNo StockCode                         Description       Quantity  \\\n",
       "count     541909    541909                              540455  541909.000000   \n",
       "unique     25900      4070                                4223            NaN   \n",
       "top       573585    85123A  WHITE HANGING HEART T-LIGHT HOLDER            NaN   \n",
       "freq        1114      2313                                2369            NaN   \n",
       "mean         NaN       NaN                                 NaN       9.552250   \n",
       "std          NaN       NaN                                 NaN     218.081158   \n",
       "min          NaN       NaN                                 NaN  -80995.000000   \n",
       "25%          NaN       NaN                                 NaN       1.000000   \n",
       "50%          NaN       NaN                                 NaN       3.000000   \n",
       "75%          NaN       NaN                                 NaN      10.000000   \n",
       "max          NaN       NaN                                 NaN   80995.000000   \n",
       "\n",
       "             InvoiceDate      UnitPrice     CustomerID         Country  \n",
       "count             541909  541909.000000  406829.000000          541909  \n",
       "unique             23260            NaN            NaN              38  \n",
       "top     10/31/2011 14:41            NaN            NaN  United Kingdom  \n",
       "freq                1114            NaN            NaN          495478  \n",
       "mean                 NaN       4.611114   15287.690570             NaN  \n",
       "std                  NaN      96.759853    1713.600303             NaN  \n",
       "min                  NaN  -11062.060000   12346.000000             NaN  \n",
       "25%                  NaN       1.250000   13953.000000             NaN  \n",
       "50%                  NaN       2.080000   15152.000000             NaN  \n",
       "75%                  NaN       4.130000   16791.000000             NaN  \n",
       "max                  NaN   38970.000000   18287.000000             NaN  "
      ]
     },
     "execution_count": 12,
     "metadata": {},
     "output_type": "execute_result"
    }
   ],
   "source": [
    "df.describe(include='all')"
   ]
  },
  {
   "cell_type": "markdown",
   "id": "45c2ad2b-441c-4b39-ad8f-a394211290bd",
   "metadata": {},
   "source": [
    "### 19) Identify Nominal attributes from data sets "
   ]
  },
  {
   "cell_type": "code",
   "execution_count": 16,
   "id": "fc216285-8d48-446e-bf65-007c9a1d5a17",
   "metadata": {},
   "outputs": [
    {
     "name": "stdout",
     "output_type": "stream",
     "text": [
      "Nominal attributes ['InvoiceNo', 'StockCode', 'Description', 'CustomerID', 'Country']\n"
     ]
    }
   ],
   "source": [
    "nominal=[\"InvoiceNo\", \"StockCode\", \"Description\", \"CustomerID\", \"Country\"]\n",
    "print(\"Nominal attributes\", nominal)"
   ]
  },
  {
   "cell_type": "markdown",
   "id": "691cb01d-423e-4be8-b267-b6846f812bc2",
   "metadata": {},
   "source": [
    "### 20) Identify Numeric attributes from data sets"
   ]
  },
  {
   "cell_type": "code",
   "execution_count": 17,
   "id": "e3845fc3-4f67-4703-adf7-d19294bfe460",
   "metadata": {},
   "outputs": [
    {
     "name": "stdout",
     "output_type": "stream",
     "text": [
      "Numeric attributes ['Quantity', 'UnitPrice', 'TotalPrice']\n"
     ]
    }
   ],
   "source": [
    "numeric=[\"Quantity\", \"UnitPrice\", \"TotalPrice\"]\n",
    "print(\"Numeric attributes\", numeric)"
   ]
  },
  {
   "cell_type": "markdown",
   "id": "ded0008e-2f20-411b-9fff-942388f94197",
   "metadata": {},
   "source": [
    "### 21) For multivariate statistics, you can compute the covariance between pairs of attributes."
   ]
  },
  {
   "cell_type": "code",
   "execution_count": 19,
   "id": "630d263d-6fff-4bfe-baf8-f2db14104917",
   "metadata": {},
   "outputs": [
    {
     "data": {
      "text/html": [
       "<div>\n",
       "<style scoped>\n",
       "    .dataframe tbody tr th:only-of-type {\n",
       "        vertical-align: middle;\n",
       "    }\n",
       "\n",
       "    .dataframe tbody tr th {\n",
       "        vertical-align: top;\n",
       "    }\n",
       "\n",
       "    .dataframe thead th {\n",
       "        text-align: right;\n",
       "    }\n",
       "</style>\n",
       "<table border=\"1\" class=\"dataframe\">\n",
       "  <thead>\n",
       "    <tr style=\"text-align: right;\">\n",
       "      <th></th>\n",
       "      <th>Quantity</th>\n",
       "      <th>UnitPrice</th>\n",
       "      <th>CustomerID</th>\n",
       "    </tr>\n",
       "  </thead>\n",
       "  <tbody>\n",
       "    <tr>\n",
       "      <th>Quantity</th>\n",
       "      <td>47559.391409</td>\n",
       "      <td>-26.058761</td>\n",
       "      <td>-1.534050e+03</td>\n",
       "    </tr>\n",
       "    <tr>\n",
       "      <th>UnitPrice</th>\n",
       "      <td>-26.058761</td>\n",
       "      <td>9362.469164</td>\n",
       "      <td>-5.415793e+02</td>\n",
       "    </tr>\n",
       "    <tr>\n",
       "      <th>CustomerID</th>\n",
       "      <td>-1534.050176</td>\n",
       "      <td>-541.579276</td>\n",
       "      <td>2.936426e+06</td>\n",
       "    </tr>\n",
       "  </tbody>\n",
       "</table>\n",
       "</div>"
      ],
      "text/plain": [
       "                Quantity    UnitPrice    CustomerID\n",
       "Quantity    47559.391409   -26.058761 -1.534050e+03\n",
       "UnitPrice     -26.058761  9362.469164 -5.415793e+02\n",
       "CustomerID  -1534.050176  -541.579276  2.936426e+06"
      ]
     },
     "execution_count": 19,
     "metadata": {},
     "output_type": "execute_result"
    }
   ],
   "source": [
    "df.cov(numeric_only=True)"
   ]
  },
  {
   "cell_type": "markdown",
   "id": "bb1b43ca-3b56-4ffc-8b94-5d9e5020572f",
   "metadata": {},
   "source": [
    "### 22) For multivariate statistics, you can compute the correlation between pairs of attributes."
   ]
  },
  {
   "cell_type": "code",
   "execution_count": 22,
   "id": "d1717721-0651-425a-879f-c8c68274cbf4",
   "metadata": {},
   "outputs": [
    {
     "data": {
      "text/html": [
       "<div>\n",
       "<style scoped>\n",
       "    .dataframe tbody tr th:only-of-type {\n",
       "        vertical-align: middle;\n",
       "    }\n",
       "\n",
       "    .dataframe tbody tr th {\n",
       "        vertical-align: top;\n",
       "    }\n",
       "\n",
       "    .dataframe thead th {\n",
       "        text-align: right;\n",
       "    }\n",
       "</style>\n",
       "<table border=\"1\" class=\"dataframe\">\n",
       "  <thead>\n",
       "    <tr style=\"text-align: right;\">\n",
       "      <th></th>\n",
       "      <th>Quantity</th>\n",
       "      <th>UnitPrice</th>\n",
       "      <th>CustomerID</th>\n",
       "    </tr>\n",
       "  </thead>\n",
       "  <tbody>\n",
       "    <tr>\n",
       "      <th>Quantity</th>\n",
       "      <td>1.000000</td>\n",
       "      <td>-0.001235</td>\n",
       "      <td>-0.00360</td>\n",
       "    </tr>\n",
       "    <tr>\n",
       "      <th>UnitPrice</th>\n",
       "      <td>-0.001235</td>\n",
       "      <td>1.000000</td>\n",
       "      <td>-0.00456</td>\n",
       "    </tr>\n",
       "    <tr>\n",
       "      <th>CustomerID</th>\n",
       "      <td>-0.003600</td>\n",
       "      <td>-0.004560</td>\n",
       "      <td>1.00000</td>\n",
       "    </tr>\n",
       "  </tbody>\n",
       "</table>\n",
       "</div>"
      ],
      "text/plain": [
       "            Quantity  UnitPrice  CustomerID\n",
       "Quantity    1.000000  -0.001235    -0.00360\n",
       "UnitPrice  -0.001235   1.000000    -0.00456\n",
       "CustomerID -0.003600  -0.004560     1.00000"
      ]
     },
     "execution_count": 22,
     "metadata": {},
     "output_type": "execute_result"
    }
   ],
   "source": [
    "df.corr(numeric_only=True)"
   ]
  },
  {
   "cell_type": "markdown",
   "id": "ef8bff6b-a22a-4ec1-8bd8-e78a66ace0b2",
   "metadata": {},
   "source": [
    "### 23) Histogram for Quantity"
   ]
  },
  {
   "cell_type": "code",
   "execution_count": 28,
   "id": "3a2dc4c4-bb98-47f5-af86-40ad0ab20048",
   "metadata": {},
   "outputs": [
    {
     "data": {
      "image/png": "[encoded data removed]",
      "text/plain": [
       "<Figure size 640x480 with 1 Axes>"
      ]
     },
     "metadata": {},
     "output_type": "display_data"
    }
   ],
   "source": [
    "plt.hist(df['Quantity'], color='skyblue', edgecolor='black')\n",
    "plt.title('Distribution of Quantity')\n",
    "plt.xlabel('Quantity')\n",
    "plt.ylabel('Frequency')\n",
    "plt.show()"
   ]
  },
  {
   "cell_type": "markdown",
   "id": "4007c51e-a96a-4af0-a34e-450334e7f5cd",
   "metadata": {},
   "source": [
    "### 24) Box Plot for Quantity"
   ]
  },
  {
   "cell_type": "code",
   "execution_count": 32,
   "id": "0edd1c50-eb49-4fe7-b846-40b744348d50",
   "metadata": {},
   "outputs": [
    {
     "data": {
      "image/png": "[encoded data removed]",
      "text/plain": [
       "<Figure size 640x480 with 1 Axes>"
      ]
     },
     "metadata": {},
     "output_type": "display_data"
    }
   ],
   "source": [
    "plt.boxplot(df['Quantity'], vert=False)\n",
    "plt.title('Box Plot of Quantity')\n",
    "plt.xlabel('Quantity')\n",
    "plt.show()"
   ]
  },
  {
   "cell_type": "markdown",
   "id": "e95ee606-b22f-4fad-b2a0-63e944c47722",
   "metadata": {},
   "source": [
    "### 25) Scatter Plot: Quantity v/s Unit Price"
   ]
  },
  {
   "cell_type": "code",
   "execution_count": 35,
   "id": "6f890f8b-7a50-4c8e-98ec-954098153878",
   "metadata": {},
   "outputs": [
    {
     "data": {
      "image/png": "[encoded data removed]",
      "text/plain": [
       "<Figure size 640x480 with 1 Axes>"
      ]
     },
     "metadata": {},
     "output_type": "display_data"
    }
   ],
   "source": [
    "plt.scatter(df['Quantity'], df['UnitPrice'])\n",
    "plt.title('Scatter Plot: Quantity vs Unit Price')\n",
    "plt.xlabel('Quantity')\n",
    "plt.ylabel('Unit Price')\n",
    "plt.show()"
   ]
  }
 ],
 "metadata": {
  "kernelspec": {
   "display_name": "Python 3 (ipykernel)",
   "language": "python",
   "name": "python3"
  },
  "language_info": {
   "codemirror_mode": {
    "name": "ipython",
    "version": 3
   },
   "file_extension": ".py",
   "mimetype": "text/x-python",
   "name": "python",
   "nbconvert_exporter": "python",
   "pygments_lexer": "ipython3",
   "version": "3.12.7"
  }
 },
 "nbformat": 4,
 "nbformat_minor": 5
}
