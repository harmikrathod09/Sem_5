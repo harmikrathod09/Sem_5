{
 "cells": [
  {
   "cell_type": "markdown",
   "id": "f4f14c5f-598a-4fd3-ab29-205ae381b5ca",
   "metadata": {},
   "source": [
    "<a href='https://www.darshan.ac.in/'>\n",
    "  <img src='https://www.darshan.ac.in/Content/media/DU_Logo.svg' width=\"250\" height=\"300\"/>\n",
    "</a>\n",
    "\n",
    "<center>\n",
    "  <h1><b>Data Mining</b></h1>\n",
    "  <h1><b>Implement Apriori Algorithm on Online Retail Dataset</b></h1>\n",
    "</center>\n",
    "\n",
    "---\n",
    "\n",
    "### **Name:** Harmik Rathod  \n",
    "### **Enrollment No:** 24010101680  \n",
    "### **Subject Code:** 2301CS503  \n",
    "### **Course:** B.Tech in Computer Science & Engineering  \n",
    "### **Semester:** 5  \n",
    "### **Division:** B  \n",
    " \n",
    "### **Instructor:** Prof. Jayesh Vagadiya \n",
    "\n",
    "---\n"
   ]
  },
  {
   "cell_type": "markdown",
   "id": "2d8cb277-bc09-4628-a88e-7abc52ef5e88",
   "metadata": {},
   "source": [
    "# Apriori Algorithm Implementation Assignment\n",
    "\n",
    "### Objective:\n",
    "You will implement the **Apriori algorithm** from scratch (i.e., without using any libraries like `mlxtend`) to find frequent itemsets and generate association rules.\n",
    "\n",
    "### Dataset:\n",
    "Use the [Online Retail Dataset](https://www.kaggle.com/datasets/vijayuv/onlineretail) from Kaggle. You can filter it for a specific country (e.g., `United Kingdom`) and time range to reduce size if needed.\n",
    "\n",
    "---"
   ]
  },
  {
   "cell_type": "markdown",
   "id": "f85128a0",
   "metadata": {},
   "source": [
    "## Step 1: Data Preprocessing\n",
    "\n",
    "- Load the dataset\n",
    "- Remove rows with missing values\n",
    "- Filter out rows where `Quantity <= 0`\n",
    "- Convert Data into Basket Format\n",
    "\n",
    "👉 **Implement code below**"
   ]
  },
  {
   "cell_type": "code",
   "execution_count": 3,
   "id": "fd66a2e0",
   "metadata": {},
   "outputs": [
    {
     "name": "stderr",
     "output_type": "stream",
     "text": [
      "C:\\Users\\HP\\AppData\\Local\\Temp\\ipykernel_8556\\2371037997.py:12: FutureWarning: DataFrame.applymap has been deprecated. Use DataFrame.map instead.\n",
      "  basket = basket.applymap(lambda x: 1 if x > 0 else 0)\n"
     ]
    }
   ],
   "source": [
    "import pandas as pd\n",
    "# Load the dataset\n",
    "df=pd.read_csv('OnlineRetail.csv', encoding='ISO-8859-1')\n",
    "\n",
    "# Preprocess as per the instructions above | We have already done in TASK 2\n",
    "df = df.dropna()\n",
    "\n",
    "df = df[df['Quantity'] > 0]\n",
    "\n",
    "# for Basket\n",
    "basket = df.groupby(['InvoiceNo', 'Description'])['Quantity'].sum().unstack().reset_index().fillna(0).set_index('InvoiceNo')\n",
    "basket = basket.applymap(lambda x: 1 if x > 0 else 0)"
   ]
  },
  {
   "cell_type": "markdown",
   "id": "2a37baf6",
   "metadata": {},
   "source": [
    "## Step 2: Implement Apriori Algorithm\n",
    "Step-by-Step Procedure:\n",
    "1. Generate Frequent 1-Itemsets\n",
    "Count the frequency (support) of each individual item in the dataset.\n",
    "Keep only those with support ≥ min_support.\n",
    "→ Result is L1 (frequent 1-itemsets)\n",
    "2. Iterative Candidate Generation (k = 2 to n)\n",
    "While L(k-1) is not empty:\n",
    "a. Candidate Generation\n",
    "\n",
    "Generate candidate itemsets Ck of size k from L(k-1) using the Apriori property:\n",
    "Any (k-itemset) is only frequent if all of its (k−1)-subsets are frequent.\n",
    "b. Prune Candidates\n",
    "Eliminate candidates that have any (k−1)-subset not in L(k-1).\n",
    "c. Count Support\n",
    "For each transaction, count how many times each candidate in Ck appears.\n",
    "d. Generate Frequent Itemsets\n",
    "Form Lk by keeping candidates from Ck that meet the min_support.\n",
    "Repeat until Lk becomes empty.\n",
    "Implement the following functions:\n",
    "1. `get_frequent_itemsets(transactions, min_support)` - Returns frequent itemsets and their support\n",
    "2. `generate_candidates(prev_frequent_itemsets, k)` - Generates candidate itemsets of length `k`\n",
    "3. `calculate_support(transactions, candidates)` - Calculates the support count for each candidate\n",
    "\n",
    "**Write reusable functions** for each part of the algorithm."
   ]
  },
  {
   "cell_type": "code",
   "execution_count": 4,
   "id": "b8f9310a",
   "metadata": {},
   "outputs": [],
   "source": [
    "from itertools import combinations\n",
    "\n",
    "def get_frequent_itemsets(transactions, min_support):\n",
    "    n = len(transactions)\n",
    "    \n",
    "    # Step 1: frequent 1-itemsets\n",
    "    item_counts = {}\n",
    "    for t in transactions:\n",
    "        for item in t:\n",
    "            key = frozenset([item])\n",
    "            item_counts[key] = item_counts.get(key, 0) + 1\n",
    "    \n",
    "    L1 = {itemset: count / n for itemset, count in item_counts.items() if (count / n) >= min_support}\n",
    "    frequent_itemsets = dict(L1)\n",
    "\n",
    "    prev_L = list(L1.keys())\n",
    "    k = 2\n",
    "    \n",
    "    # Step 2: generate larger itemsets\n",
    "    while prev_L:\n",
    "        candidates = generate_candidates(prev_L, k)\n",
    "        candidate_support = calculate_support(transactions, candidates)\n",
    "        \n",
    "        current_L = {itemset: support for itemset, support in candidate_support.items() if support >= min_support}\n",
    "        \n",
    "        frequent_itemsets.update(current_L)\n",
    "        prev_L = list(current_L.keys())\n",
    "        k += 1\n",
    "    \n",
    "    return frequent_itemsets\n",
    "\n",
    "\n",
    "def generate_candidates(prev_frequent_itemsets, k):\n",
    "    prev_list = [frozenset(x) for x in prev_frequent_itemsets]\n",
    "    prev_set = set(prev_list)\n",
    "    candidates = set()\n",
    "\n",
    "    for i in range(len(prev_list)):\n",
    "        for j in range(i + 1, len(prev_list)):\n",
    "            union = prev_list[i] | prev_list[j]\n",
    "            if len(union) == k:\n",
    "                # prune: all (k-1)-subsets must be frequent\n",
    "                if all(frozenset(sub) in prev_set for sub in combinations(union, k - 1)):\n",
    "                    candidates.add(frozenset(union))\n",
    "    \n",
    "    return list(candidates)\n",
    "\n",
    "\n",
    "def calculate_support(transactions, candidates):\n",
    "    candidates = [frozenset(c) for c in candidates]\n",
    "    support_count = {c: 0 for c in candidates}\n",
    "    n = len(transactions)\n",
    "    \n",
    "    for t in transactions:\n",
    "        for c in candidates:\n",
    "            if c.issubset(t):\n",
    "                support_count[c] += 1\n",
    "    \n",
    "    return {c: support_count[c] / n for c in candidates}\n"
   ]
  },
  {
   "cell_type": "markdown",
   "id": "6cb8c0fe",
   "metadata": {},
   "source": [
    "## Step 3: Generate Association Rules\n",
    "\n",
    "- Use frequent itemsets to generate association rules\n",
    "- For each rule `A => B`, calculate:\n",
    "  - **Support**\n",
    "  - **Confidence**\n",
    "- Only return rules that meet a minimum confidence threshold (e.g., 0.5)\n",
    "\n",
    "👉 **Implement rule generation function below**"
   ]
  },
  {
   "cell_type": "code",
   "execution_count": 5,
   "id": "97bc236e",
   "metadata": {},
   "outputs": [],
   "source": [
    "# Function to generate rules from frequent itemsets\n",
    "\n",
    "def generate_rules(frequent_itemsets, min_confidence):\n",
    "    rules = []\n",
    "\n",
    "    for itemset, itemset_support in frequent_itemsets.items():\n",
    "        # only consider itemsets of size >= 2\n",
    "        if len(itemset) < 2:\n",
    "            continue\n",
    "\n",
    "        items = list(itemset)\n",
    "        # generate all non-empty proper antecedents\n",
    "        for r in range(1, len(items)):\n",
    "            for antecedent_tuple in combinations(items, r):\n",
    "                antecedent = frozenset(antecedent_tuple)\n",
    "                consequent = itemset - antecedent\n",
    "\n",
    "                # antecedent support must be available (Apriori guarantees it usually is)\n",
    "                antecedent_support = frequent_itemsets.get(antecedent)\n",
    "                if not antecedent_support:\n",
    "                    continue\n",
    "\n",
    "                confidence = itemset_support / antecedent_support\n",
    "                if confidence >= min_confidence:\n",
    "                    rules.append({\n",
    "                        'antecedent': set(antecedent),\n",
    "                        'consequent': set(consequent),\n",
    "                        'support': itemset_support,\n",
    "                        'confidence': confidence\n",
    "                    })\n",
    "\n",
    "    return rules"
   ]
  },
  {
   "cell_type": "markdown",
   "id": "0cf26889",
   "metadata": {},
   "source": [
    "## Step 4: Output and Visualize\n",
    "\n",
    "- Print top 10 frequent itemsets\n",
    "- Print top 10 association rules (by confidence or lift)\n",
    "\n",
    "👉 **Output results below**"
   ]
  },
  {
   "cell_type": "code",
   "execution_count": null,
   "id": "f3443a37",
   "metadata": {},
   "outputs": [],
   "source": [
    "# Output the final results\n",
    "# Optional: Add visualizations\n",
    "\n",
    "frequent_itemsets = get_frequent_itemsets(basket, min_support=0.01)\n",
    "rules = generate_rules(frequent_itemsets, min_confidence=0.5)"
   ]
  },
  {
   "cell_type": "code",
   "execution_count": null,
   "id": "5ee93a7d-fdbe-4366-86f2-3965f4837ac4",
   "metadata": {},
   "outputs": [],
   "source": [
    "# Output Top 10 frequent itemsets\n",
    "print(\"Top 10 Frequent Itemsets:\")\n",
    "for i, (items, count) in enumerate(sorted(frequent_itemsets.items(), key=lambda x: x[1], reverse=True)[:10]):\n",
    "    print(f\"{set(items)} - Count: {count}\")"
   ]
  },
  {
   "cell_type": "code",
   "execution_count": null,
   "id": "d0531959-0c20-43e1-a108-021326966966",
   "metadata": {},
   "outputs": [],
   "source": [
    "\n",
    "# Output Top 10 rules\n",
    "print(\"\\nTop 10 Association Rules:\")\n",
    "for i, (antecedent, consequent, confidence, lift) in enumerate(sorted(rules, key=lambda x: x[2], reverse=True)[:10]):\n",
    "    print(f\"{set(antecedent)} -> {set(consequent)} | Confidence: {confidence:.2f} | Lift: {lift:.2f}\")"
   ]
  },
  {
   "cell_type": "code",
   "execution_count": null,
   "id": "841e411c-b3c4-4b40-85aa-78867a192c91",
   "metadata": {},
   "outputs": [],
   "source": []
  }
 ],
 "metadata": {
  "kernelspec": {
   "display_name": "Python 3 (ipykernel)",
   "language": "python",
   "name": "python3"
  },
  "language_info": {
   "codemirror_mode": {
    "name": "ipython",
    "version": 3
   },
   "file_extension": ".py",
   "mimetype": "text/x-python",
   "name": "python",
   "nbconvert_exporter": "python",
   "pygments_lexer": "ipython3",
   "version": "3.12.7"
  }
 },
 "nbformat": 4,
 "nbformat_minor": 5
}
